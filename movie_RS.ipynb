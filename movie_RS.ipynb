{
  "cells": [
    {
      "cell_type": "code",
      "execution_count": 48,
      "metadata": {
        "id": "s30oyFtd8Kv8"
      },
      "outputs": [],
      "source": [
        "import numpy as np\n",
        "import tensorflow as tf\n"
      ]
    },
    {
      "cell_type": "code",
      "execution_count": 49,
      "metadata": {
        "id": "_h1ljrlW8Oe3"
      },
      "outputs": [],
      "source": [
        "users = ['Nare', 'Narek',   'Aram', 'Arpi']\n",
        "\n",
        "movies = [ 'Oppenheimer',\n",
        "     'The Dark Knight', 'Shrek',\n",
        "    'Inside out', \"Barbie\", 'Star Wars'\n",
        "]\n",
        "\n",
        "features = ['Action', 'Sci-Fi', 'Comedy', 'Cartoon', 'Drama']\n",
        "\n",
        "num_users = len(users)\n",
        "num_movies = len(movies)\n",
        "num_feats = len(features)\n",
        "num_recommendations = 2\n"
      ]
    },
    {
      "cell_type": "code",
      "execution_count": 50,
      "metadata": {
        "id": "VcPRUfzv9ICE"
      },
      "outputs": [],
      "source": [
        "users_movies = tf.constant([\n",
        "                [5,  7,  9,  0, 0, 6],\n",
        "                [0,  0, 10,  0, 7, 8],\n",
        "                [0,  6,  0,  0, 5, 6],\n",
        "                [10, 4,  0,  10, 0, 8]], dtype=tf.float32)\n"
      ]
    },
    {
      "cell_type": "code",
      "execution_count": 51,
      "metadata": {
        "id": "5AXItdYP9T7W"
      },
      "outputs": [],
      "source": [
        "movies_feats = tf.constant([\n",
        "                [1, 1, 0, 0, 1],\n",
        "                [1, 1, 0, 0, 0],\n",
        "                [0, 0, 1, 1, 0],\n",
        "                [1, 0, 1, 1, 0],\n",
        "                [0, 0, 0, 0, 1],\n",
        "                [1, 0, 0, 0, 1]], dtype=tf.float32)\n"
      ]
    },
    {
      "cell_type": "code",
      "execution_count": 52,
      "metadata": {
        "colab": {
          "base_uri": "https://localhost:8080/"
        },
        "id": "f6M25B9z9YQi",
        "outputId": "5cfc5a24-2153-4628-e33a-5900ef25189c"
      },
      "outputs": [
        {
          "data": {
            "text/plain": [
              "<tf.Tensor: shape=(4, 5), dtype=float32, numpy=\n",
              "array([[18., 12.,  9.,  9., 11.],\n",
              "       [ 8.,  0., 10., 10., 15.],\n",
              "       [12.,  6.,  0.,  0., 11.],\n",
              "       [32., 14., 10., 10., 18.]], dtype=float32)>"
            ]
          },
          "execution_count": 52,
          "metadata": {},
          "output_type": "execute_result"
        }
      ],
      "source": [
        "users_feats = tf.matmul(users_movies, movies_feats)\n",
        "users_feats\n"
      ]
    },
    {
      "cell_type": "code",
      "execution_count": 53,
      "metadata": {
        "colab": {
          "base_uri": "https://localhost:8080/"
        },
        "id": "9yj18CoU9dTf",
        "outputId": "975fd1c5-59c8-4c04-dece-27a0284764ba"
      },
      "outputs": [
        {
          "data": {
            "text/plain": [
              "<tf.Tensor: shape=(4, 5), dtype=float32, numpy=\n",
              "array([[0.30508474, 0.20338982, 0.15254237, 0.15254237, 0.18644068],\n",
              "       [0.18604651, 0.        , 0.23255815, 0.23255815, 0.3488372 ],\n",
              "       [0.41379312, 0.20689656, 0.        , 0.        , 0.37931034],\n",
              "       [0.3809524 , 0.16666667, 0.11904762, 0.11904762, 0.21428572]],\n",
              "      dtype=float32)>"
            ]
          },
          "execution_count": 53,
          "metadata": {},
          "output_type": "execute_result"
        }
      ],
      "source": [
        "users_feats = users_feats / tf.reduce_sum(users_feats, axis=1, keepdims=True)\n",
        "users_feats\n"
      ]
    },
    {
      "cell_type": "code",
      "execution_count": 54,
      "metadata": {
        "colab": {
          "base_uri": "https://localhost:8080/"
        },
        "id": "iTvIlG0P9eS_",
        "outputId": "cbd8147a-ee6f-47e7-fc15-e93060930feb"
      },
      "outputs": [
        {
          "data": {
            "text/plain": [
              "<tf.Tensor: shape=(4, 5), dtype=int32, numpy=\n",
              "array([[0, 1, 4, 2, 3],\n",
              "       [4, 2, 3, 0, 1],\n",
              "       [0, 4, 1, 2, 3],\n",
              "       [0, 4, 1, 2, 3]], dtype=int32)>"
            ]
          },
          "execution_count": 54,
          "metadata": {},
          "output_type": "execute_result"
        }
      ],
      "source": [
        "top_users_features = tf.nn.top_k(users_feats, num_feats)[1]\n",
        "top_users_features\n"
      ]
    },
    {
      "cell_type": "code",
      "execution_count": 55,
      "metadata": {
        "colab": {
          "base_uri": "https://localhost:8080/"
        },
        "id": "hNg72hLx9hdX",
        "outputId": "21da8aac-377b-4e07-addc-c1d8575a6ab2"
      },
      "outputs": [
        {
          "name": "stdout",
          "output_type": "stream",
          "text": [
            "Nare: ['Action', 'Sci-Fi', 'Drama', 'Comedy', 'Cartoon']\n",
            "Narek: ['Drama', 'Comedy', 'Cartoon', 'Action', 'Sci-Fi']\n",
            "Aram: ['Action', 'Drama', 'Sci-Fi', 'Comedy', 'Cartoon']\n",
            "Arpi: ['Action', 'Drama', 'Sci-Fi', 'Comedy', 'Cartoon']\n"
          ]
        }
      ],
      "source": [
        "for i in range(num_users):\n",
        "    feature_names = [features[int(index)] for index in top_users_features[i]]\n",
        "    print('{}: {}'.format(users[i], feature_names))\n"
      ]
    },
    {
      "cell_type": "code",
      "execution_count": 56,
      "metadata": {
        "id": "HBYt2SOW9kbZ"
      },
      "outputs": [],
      "source": [
        "users_ratings =  [tf.map_fn(lambda x: tf.tensordot(users_feats[i], x, axes = 1),\n",
        "                           tf.cast(movies_feats, tf.float32))\n",
        "                  for i in range(num_users)]\n"
      ]
    },
    {
      "cell_type": "code",
      "execution_count": 57,
      "metadata": {
        "colab": {
          "base_uri": "https://localhost:8080/"
        },
        "id": "Qr7pPgF79pDP",
        "outputId": "31c35673-0a75-4d54-9240-89cac4438cbd"
      },
      "outputs": [
        {
          "data": {
            "text/plain": [
              "<tf.Tensor: shape=(4, 6), dtype=bool, numpy=\n",
              "array([[False, False, False,  True,  True, False],\n",
              "       [ True,  True, False,  True, False, False],\n",
              "       [ True, False,  True,  True, False, False],\n",
              "       [False, False,  True, False,  True, False]])>"
            ]
          },
          "execution_count": 57,
          "metadata": {},
          "output_type": "execute_result"
        }
      ],
      "source": [
        "users_unseen_movies = tf.equal(users_movies, tf.zeros_like(users_movies))\n",
        "users_unseen_movies\n"
      ]
    },
    {
      "cell_type": "code",
      "execution_count": 58,
      "metadata": {
        "colab": {
          "base_uri": "https://localhost:8080/"
        },
        "id": "tHu7XI_q9tcP",
        "outputId": "be1da65c-3758-4436-d638-0c691c1fa152"
      },
      "outputs": [
        {
          "data": {
            "text/plain": [
              "<tf.Tensor: shape=(4, 6), dtype=float32, numpy=\n",
              "array([[0., 0., 0., 0., 0., 0.],\n",
              "       [0., 0., 0., 0., 0., 0.],\n",
              "       [0., 0., 0., 0., 0., 0.],\n",
              "       [0., 0., 0., 0., 0., 0.]], dtype=float32)>"
            ]
          },
          "execution_count": 58,
          "metadata": {},
          "output_type": "execute_result"
        }
      ],
      "source": [
        "ignore_matrix = tf.zeros_like(tf.cast(users_movies, tf.float32))\n",
        "ignore_matrix"
      ]
    },
    {
      "cell_type": "code",
      "execution_count": 59,
      "metadata": {
        "colab": {
          "base_uri": "https://localhost:8080/"
        },
        "id": "IOmTLxEy9xCo",
        "outputId": "07f3e4af-f9e0-4e05-c717-9e4f784508c7"
      },
      "outputs": [
        {
          "data": {
            "text/plain": [
              "<tf.Tensor: shape=(4, 6), dtype=float32, numpy=\n",
              "array([[0.        , 0.        , 0.        , 0.6101695 , 0.18644068,\n",
              "        0.        ],\n",
              "       [0.53488374, 0.18604651, 0.        , 0.6511628 , 0.        ,\n",
              "        0.        ],\n",
              "       [1.        , 0.        , 0.        , 0.41379312, 0.        ,\n",
              "        0.        ],\n",
              "       [0.        , 0.        , 0.23809524, 0.        , 0.21428572,\n",
              "        0.        ]], dtype=float32)>"
            ]
          },
          "execution_count": 59,
          "metadata": {},
          "output_type": "execute_result"
        }
      ],
      "source": [
        "users_ratings_new = tf.where(\n",
        "    users_unseen_movies,\n",
        "    users_ratings,\n",
        "    ignore_matrix)\n",
        "\n",
        "users_ratings_new\n"
      ]
    },
    {
      "cell_type": "code",
      "execution_count": 60,
      "metadata": {
        "colab": {
          "base_uri": "https://localhost:8080/"
        },
        "id": "840Zl6Ss90Uw",
        "outputId": "2a3d1c50-698a-4e91-c998-851c5dc2da2b"
      },
      "outputs": [
        {
          "data": {
            "text/plain": [
              "<tf.Tensor: shape=(4, 2), dtype=int32, numpy=\n",
              "array([[3, 4],\n",
              "       [3, 0],\n",
              "       [0, 3],\n",
              "       [2, 4]], dtype=int32)>"
            ]
          },
          "execution_count": 60,
          "metadata": {},
          "output_type": "execute_result"
        }
      ],
      "source": [
        "top_movies = tf.nn.top_k(users_ratings_new, num_recommendations)[1]\n",
        "top_movies\n"
      ]
    },
    {
      "cell_type": "code",
      "execution_count": 61,
      "metadata": {
        "colab": {
          "base_uri": "https://localhost:8080/"
        },
        "id": "ilRUu2B-93yf",
        "outputId": "83ce8574-ef4c-4e18-8390-23f96ba089f8"
      },
      "outputs": [
        {
          "name": "stdout",
          "output_type": "stream",
          "text": [
            "Nare: ['Inside out', 'Barbie']\n",
            "Narek: ['Inside out', 'Oppenheimer']\n",
            "Aram: ['Oppenheimer', 'Inside out']\n",
            "Arpi: ['Shrek', 'Barbie']\n"
          ]
        }
      ],
      "source": [
        "for i in range(num_users):\n",
        "    movie_names = [movies[index] for index in top_movies[i]]\n",
        "    print('{}: {}'.format(users[i], movie_names))\n"
      ]
    },
    {
      "cell_type": "code",
      "execution_count": null,
      "metadata": {},
      "outputs": [],
      "source": [
        "Sources\n",
        "\n",
        "\n",
        "\n",
        "[Google Course “Recommendation systems”](https://developers.google.com/machine-learning/recommendation/overview/terminology)\n",
        "\n",
        "[Content-based Recommender System for Movies with Tensorflow](https://www.doczamora.com/content-based-recommender-system-for-movies-with-tensorflow)\n",
        "\n",
        "[A Hybrid Approach using Collaborative filtering and Content-based Filtering for Recommender\n",
        "System](https://iopscience.iop.org/article/10.1088/1742-6596/1000/1/012101/pdf#:~:text=A%20hybrid%20approach%20is%20taken,the%20performance%20of%20the%20system.)\n",
        "\n",
        "[Personalized Movie Recommendation Engine using Content-based Filtering in Python](https://www.relataly.com/content-based-movie-recommender-using-python/4294/)"
      ]
    }
  ],
  "metadata": {
    "colab": {
      "provenance": []
    },
    "kernelspec": {
      "display_name": "Python 3",
      "name": "python3"
    },
    "language_info": {
      "name": "python"
    }
  },
  "nbformat": 4,
  "nbformat_minor": 0
}
